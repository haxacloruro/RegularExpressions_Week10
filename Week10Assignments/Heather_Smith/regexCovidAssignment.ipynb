{
 "cells": [
  {
   "cell_type": "markdown",
   "metadata": {},
   "source": [
    "This assignment will give you practice with regular expressions (and other Python skills) by processing data on cumulative case counts and deaths in every county/parish in the US for covid-19. These data are compiled and updated regulary by the NY Times, and made available on GitHub: https://github.com/nytimes/covid-19-data. I downloaded the data on March 30th and have included that file (covidData_3.30.20.txt) in this week's repository.\n",
    "\n",
    "Each cell in this Jupyter notebook includes a comment that indicates what I want you to accomplish with Python code. To submit your assignment, please create your own folder (with your name) inside the assignments folder for this week. In this folder, please put the completed notebook and the new files you created. Please submit these via a pull request to the class GitHub page, as with previous weeks.\n",
    "\n",
    "If you have *any questions at all*, please let me know. I will be available for office hours via Zoom at our regularly scheduled class times. I'll also respond to all emails as quickly as possible.\n",
    "\n",
    "This assignment will be due by 5 PM next Monday, April 6th."
   ]
  },
  {
   "cell_type": "code",
   "execution_count": 3,
   "metadata": {},
   "outputs": [],
   "source": [
    "# Load the re module\n",
    "\n",
    "# Code here...\n",
    "\n",
    "import re"
   ]
  },
  {
   "cell_type": "code",
   "execution_count": 4,
   "metadata": {},
   "outputs": [],
   "source": [
    "# Create a file object to read from the covid data file\n",
    "# This file contains cumulative case counts and deaths from \n",
    "# covid-19 for every country in the US. It was current as of\n",
    "# March 30th.\n",
    "\n",
    "# Code here...\n",
    "\n",
    "inFile = open(\"covidData_3.30.20.txt\",'r')"
   ]
  },
  {
   "cell_type": "code",
   "execution_count": 5,
   "metadata": {},
   "outputs": [],
   "source": [
    "# Find all parishes from Louisiana in this file.\n",
    "# You should make a list that contains only the parish\n",
    "# names. This list can be created with a single command.\n",
    "# Be careful to include ALL the parishes in your search.\n",
    "\n",
    "# Code here...\n",
    "\n",
    "parishes = re.findall(r\"(,.*)(?=,Louisiana)\",inFile.read())"
   ]
  },
  {
   "cell_type": "code",
   "execution_count": 6,
   "metadata": {},
   "outputs": [
    {
     "data": {
      "text/plain": [
       "<function TextIOWrapper.close>"
      ]
     },
     "execution_count": 6,
     "metadata": {},
     "output_type": "execute_result"
    }
   ],
   "source": [
    "# Close the covid data file object\n",
    "\n",
    "# Code here...\n",
    "\n",
    "inFile.close"
   ]
  },
  {
   "cell_type": "code",
   "execution_count": 7,
   "metadata": {},
   "outputs": [
    {
     "name": "stdout",
     "output_type": "stream",
     "text": [
      "[',Jefferson', ',Jefferson', ',Orleans', ',Caddo', ',Jefferson', ',Orleans', ',Caddo', ',Jefferson', ',Orleans', ',Caddo', ',Jefferson', ',Orleans', ',St. Charles', ',St. Tammany', ',Terrebonne', ',Bossier', ',Caddo', ',Jefferson', ',Lafourche', ',Orleans', ',St. Charles', ',St. John the Baptist', ',St. Tammany', ',Terrebonne', ',Bossier', ',Caddo', ',Jefferson', ',Lafourche', ',Orleans', ',St. Bernard', ',St. Charles', ',St. John the Baptist', ',St. Tammany', ',Terrebonne', ',Ascension', ',Bossier', ',Caddo', ',Jefferson', ',Lafourche', ',Orleans', ',St. Bernard', ',St. Charles', ',St. John the Baptist', ',St. Tammany', ',Terrebonne', ',Ascension', ',Bossier', ',Caddo', ',East Baton Rouge', ',Jefferson', ',Lafourche', ',Orleans', ',St. Bernard', ',St. Charles', ',St. John the Baptist', ',St. Tammany', ',Terrebonne', ',Washington', ',Ascension', ',Bossier', ',Caddo', ',East Baton Rouge', ',Jefferson', ',Lafourche', ',Orleans', ',St. Bernard', ',St. Charles', ',St. John the Baptist', ',St. Tammany', ',Terrebonne', ',Unknown', ',Washington', ',Ascension', ',Assumption', ',Bossier', ',Caddo', ',Calcasieu', ',East Baton Rouge', ',Iberia', ',Iberville', ',Jefferson', ',Lafayette', ',Lafourche', ',Livingston', ',Orleans', ',Plaquemines', ',St. Bernard', ',St. Charles', ',St. James', ',St. John the Baptist', ',St. Landry', ',St. Tammany', ',Terrebonne', ',Unknown', ',Washington', ',Webster', ',West Baton Rouge', ',Ascension', ',Assumption', ',Bossier', ',Caddo', ',Calcasieu', ',Catahoula', ',De Soto', ',East Baton Rouge', ',Iberia', ',Iberville', ',Jefferson', ',Lafayette', ',Lafourche', ',Livingston', ',Orleans', ',Plaquemines', ',Rapides', ',St. Bernard', ',St. Charles', ',St. James', ',St. John the Baptist', ',St. Landry', ',St. Tammany', ',Tangipahoa', ',Terrebonne', ',Unknown', ',Washington', ',Webster', ',West Baton Rouge', ',Ascension', ',Assumption', ',Avoyelles', ',Beauregard', ',Bienville', ',Bossier', ',Caddo', ',Calcasieu', ',Catahoula', ',Claiborne', ',De Soto', ',East Baton Rouge', ',Evangeline', ',Iberia', ',Iberville', ',Jefferson', ',Lafayette', ',Lafourche', ',Livingston', ',Orleans', ',Ouachita', ',Plaquemines', ',Rapides', ',St. Bernard', ',St. Charles', ',St. James', ',St. John the Baptist', ',St. Landry', ',St. Mary', ',St. Tammany', ',Tangipahoa', ',Terrebonne', ',Unknown', ',Washington', ',Webster', ',West Baton Rouge', ',Acadia', ',Ascension', ',Assumption', ',Avoyelles', ',Beauregard', ',Bienville', ',Bossier', ',Caddo', ',Calcasieu', ',Catahoula', ',Claiborne', ',De Soto', ',East Baton Rouge', ',Evangeline', ',Iberia', ',Iberville', ',Jefferson', ',Lafayette', ',Lafourche', ',Livingston', ',Orleans', ',Ouachita', ',Plaquemines', ',Rapides', ',St. Bernard', ',St. Charles', ',St. James', ',St. John the Baptist', ',St. Landry', ',St. Mary', ',St. Tammany', ',Tangipahoa', ',Terrebonne', ',Unknown', ',Washington', ',Webster', ',West Baton Rouge', ',Acadia', ',Allen', ',Ascension', ',Assumption', ',Avoyelles', ',Beauregard', ',Bienville', ',Bossier', ',Caddo', ',Calcasieu', ',Catahoula', ',Claiborne', ',De Soto', ',East Baton Rouge', ',Evangeline', ',Grant', ',Iberia', ',Iberville', ',Jefferson', ',Lafayette', ',Lafourche', ',Lincoln', ',Livingston', ',Natchitoches', ',Orleans', ',Ouachita', ',Plaquemines', ',Rapides', ',Richland', ',St. Bernard', ',St. Charles', ',St. James', ',St. John the Baptist', ',St. Landry', ',St. Martin', ',St. Mary', ',St. Tammany', ',Tangipahoa', ',Terrebonne', ',Unknown', ',Washington', ',Webster', ',West Baton Rouge', ',Acadia', ',Allen', ',Ascension', ',Assumption', ',Avoyelles', ',Beauregard', ',Bienville', ',Bossier', ',Caddo', ',Calcasieu', ',Catahoula', ',Claiborne', ',De Soto', ',East Baton Rouge', ',Evangeline', ',Grant', ',Iberia', ',Iberville', ',Jefferson', ',Lafayette', ',Lafourche', ',Lincoln', ',Livingston', ',Natchitoches', ',Orleans', ',Ouachita', ',Plaquemines', ',Rapides', ',Richland', ',St. Bernard', ',St. Charles', ',St. James', ',St. John the Baptist', ',St. Landry', ',St. Martin', ',St. Mary', ',St. Tammany', ',Tangipahoa', ',Terrebonne', ',Unknown', ',Vernon', ',Washington', ',Webster', ',West Baton Rouge', ',Acadia', ',Allen', ',Ascension', ',Assumption', ',Avoyelles', ',Beauregard', ',Bienville', ',Bossier', ',Caddo', ',Calcasieu', ',Catahoula', ',Claiborne', ',De Soto', ',East Baton Rouge', ',Evangeline', ',Grant', ',Iberia', ',Iberville', ',Jackson', ',Jefferson', ',Jefferson Davis', ',Lafayette', ',Lafourche', ',Lincoln', ',Livingston', ',Morehouse', ',Natchitoches', ',Orleans', ',Ouachita', ',Plaquemines', ',Rapides', ',Richland', ',St. Bernard', ',St. Charles', ',St. James', ',St. John the Baptist', ',St. Landry', ',St. Martin', ',St. Mary', ',St. Tammany', ',Tangipahoa', ',Terrebonne', ',Union', ',Unknown', ',Vernon', ',Washington', ',Webster', ',West Baton Rouge', ',Winn', ',Acadia', ',Allen', ',Ascension', ',Assumption', ',Avoyelles', ',Beauregard', ',Bienville', ',Bossier', ',Caddo', ',Calcasieu', ',Catahoula', ',Claiborne', ',De Soto', ',East Baton Rouge', ',East Feliciana', ',Evangeline', ',Grant', ',Iberia', ',Iberville', ',Jackson', ',Jefferson', ',Jefferson Davis', ',LaSalle', ',Lafayette', ',Lafourche', ',Lincoln', ',Livingston', ',Madison', ',Morehouse', ',Natchitoches', ',Orleans', ',Ouachita', ',Plaquemines', ',Pointe Coupee', ',Rapides', ',Richland', ',St. Bernard', ',St. Charles', ',St. James', ',St. John the Baptist', ',St. Landry', ',St. Martin', ',St. Mary', ',St. Tammany', ',Tangipahoa', ',Terrebonne', ',Union', ',Unknown', ',Vermilion', ',Vernon', ',Washington', ',Webster', ',West Baton Rouge', ',Winn', ',Acadia', ',Allen', ',Ascension', ',Assumption', ',Avoyelles', ',Beauregard', ',Bienville', ',Bossier', ',Caddo', ',Calcasieu', ',Catahoula', ',Claiborne', ',De Soto', ',East Baton Rouge', ',East Feliciana', ',Evangeline', ',Grant', ',Iberia', ',Iberville', ',Jackson', ',Jefferson', ',Jefferson Davis', ',LaSalle', ',Lafayette', ',Lafourche', ',Lincoln', ',Livingston', ',Madison', ',Morehouse', ',Natchitoches', ',Orleans', ',Ouachita', ',Plaquemines', ',Pointe Coupee', ',Rapides', ',Richland', ',St. Bernard', ',St. Charles', ',St. James', ',St. John the Baptist', ',St. Landry', ',St. Martin', ',St. Mary', ',St. Tammany', ',Tangipahoa', ',Terrebonne', ',Union', ',Unknown', ',Vermilion', ',Vernon', ',Washington', ',Webster', ',West Baton Rouge', ',West Feliciana', ',Winn', ',Acadia', ',Allen', ',Ascension', ',Assumption', ',Avoyelles', ',Beauregard', ',Bienville', ',Bossier', ',Caddo', ',Calcasieu', ',Catahoula', ',Claiborne', ',De Soto', ',East Baton Rouge', ',East Carroll', ',East Feliciana', ',Evangeline', ',Franklin', ',Grant', ',Iberia', ',Iberville', ',Jackson', ',Jefferson', ',Jefferson Davis', ',LaSalle', ',Lafayette', ',Lafourche', ',Lincoln', ',Livingston', ',Madison', ',Morehouse', ',Natchitoches', ',Orleans', ',Ouachita', ',Plaquemines', ',Pointe Coupee', ',Rapides', ',Richland', ',St. Bernard', ',St. Charles', ',St. James', ',St. John the Baptist', ',St. Landry', ',St. Martin', ',St. Mary', ',St. Tammany', ',Tangipahoa', ',Terrebonne', ',Union', ',Unknown', ',Vermilion', ',Vernon', ',Washington', ',Webster', ',West Baton Rouge', ',West Feliciana', ',Winn', ',Acadia', ',Allen', ',Ascension', ',Assumption', ',Avoyelles', ',Beauregard', ',Bienville', ',Bossier', ',Caddo', ',Calcasieu', ',Caldwell', ',Catahoula', ',Claiborne', ',De Soto', ',East Baton Rouge', ',East Carroll', ',East Feliciana', ',Evangeline', ',Franklin', ',Grant', ',Iberia', ',Iberville', ',Jackson', ',Jefferson', ',Jefferson Davis', ',LaSalle', ',Lafayette', ',Lafourche', ',Lincoln', ',Livingston', ',Madison', ',Morehouse', ',Natchitoches', ',Orleans', ',Ouachita', ',Plaquemines', ',Pointe Coupee', ',Rapides', ',Red River', ',Richland', ',Sabine', ',St. Bernard', ',St. Charles', ',St. James', ',St. John the Baptist', ',St. Landry', ',St. Martin', ',St. Mary', ',St. Tammany', ',Tangipahoa', ',Terrebonne', ',Union', ',Unknown', ',Vermilion', ',Vernon', ',Washington', ',Webster', ',West Baton Rouge', ',West Feliciana', ',Winn']\n"
     ]
    }
   ],
   "source": [
    "# Print out the Louisiana search results\n",
    "\n",
    "# Code here...\n",
    "print(parishes)"
   ]
  },
  {
   "cell_type": "code",
   "execution_count": 8,
   "metadata": {},
   "outputs": [
    {
     "name": "stdout",
     "output_type": "stream",
     "text": [
      "{',Jefferson': 21, ',Orleans': 20, ',Caddo': 19, ',St. Charles': 17, ',St. Tammany': 17, ',Terrebonne': 17, ',Bossier': 16, ',Lafourche': 16, ',St. John the Baptist': 16, ',St. Bernard': 15, ',Ascension': 14, ',East Baton Rouge': 13, ',Washington': 13, ',Unknown': 12, ',Assumption': 11, ',Calcasieu': 11, ',Iberia': 11, ',Iberville': 11, ',Lafayette': 11, ',Livingston': 11, ',Plaquemines': 11, ',St. James': 11, ',St. Landry': 11, ',Webster': 11, ',West Baton Rouge': 11, ',Catahoula': 10, ',De Soto': 10, ',Rapides': 10, ',Tangipahoa': 10, ',Avoyelles': 9, ',Beauregard': 9, ',Bienville': 9, ',Claiborne': 9, ',Evangeline': 9, ',Ouachita': 9, ',St. Mary': 9, ',Acadia': 8, ',Allen': 7, ',Grant': 7, ',Lincoln': 7, ',Natchitoches': 7, ',Richland': 7, ',St. Martin': 7, ',Vernon': 6, ',Jackson': 5, ',Jefferson Davis': 5, ',Morehouse': 5, ',Union': 5, ',Winn': 5, ',East Feliciana': 4, ',LaSalle': 4, ',Madison': 4, ',Pointe Coupee': 4, ',Vermilion': 4, ',West Feliciana': 3, ',East Carroll': 2, ',Franklin': 2, ',Caldwell': 1, ',Red River': 1, ',Sabine': 1}\n"
     ]
    }
   ],
   "source": [
    "# Create a dictionary that has the Louisiana parish \n",
    "# names as keys and the number of times they appear \n",
    "# in the data file as values.\n",
    "\n",
    "# Hint: You can test if a dictionary does or does not\n",
    "# contain a certain key using:\n",
    "# myKey in myDict --or-- myKey not in myDict\n",
    "\n",
    "# Code here...\n",
    "\n",
    "mydict={}\n",
    "\n",
    "for i in parishes:\n",
    "    if i not in mydict:\n",
    "         mydict[i]=1\n",
    "    else: \n",
    "        n=mydict[i]+1\n",
    "        mydict[i]=n\n",
    "   \n",
    "        \n",
    "print(mydict)"
   ]
  },
  {
   "cell_type": "code",
   "execution_count": 9,
   "metadata": {},
   "outputs": [
    {
     "name": "stdout",
     "output_type": "stream",
     "text": [
      "21\n",
      "20\n",
      "13\n",
      "11\n"
     ]
    }
   ],
   "source": [
    "# Using your dictionary, figure out which of these parishes has\n",
    "# the most entries in the file. The one with the most entries\n",
    "# had the earliest observed covid case.\n",
    "# Jefferson, Orleans, East Baton Rouge, Plaquemines\n",
    "\n",
    "# Code here...\n",
    "print(mydict[\",Jefferson\"])\n",
    "print(mydict[\",Orleans\"])\n",
    "print(mydict[\",East Baton Rouge\"])\n",
    "print(mydict[\",Plaquemines\"])"
   ]
  },
  {
   "cell_type": "code",
   "execution_count": 10,
   "metadata": {},
   "outputs": [
    {
     "data": {
      "text/plain": [
       "60"
      ]
     },
     "execution_count": 10,
     "metadata": {},
     "output_type": "execute_result"
    }
   ],
   "source": [
    "# Figure out how many parishes are in the dictionary. How does \n",
    "# this compare to the total number of parishes in the state?\n",
    "\n",
    "# Code here...\n",
    "len(mydict)\n",
    "\n",
    "## The list contains 60 parishes of the 64 parishes in Louisiana"
   ]
  },
  {
   "cell_type": "code",
   "execution_count": 11,
   "metadata": {},
   "outputs": [
    {
     "name": "stdout",
     "output_type": "stream",
     "text": [
      "2020-03-14,Orleans,Louisiana,22071,53,1\n"
     ]
    },
    {
     "data": {
      "text/plain": [
       "'Orleans parish reported the first covid-19 death in Louisiana on 2020-03-14'"
      ]
     },
     "execution_count": 11,
     "metadata": {},
     "output_type": "execute_result"
    }
   ],
   "source": [
    "# Now, reopen the data file and use a regex search to find the first instance \n",
    "# where a Louisiana parish recorded a covid-19 death. This will be the first \n",
    "# line in the file that includes Louisiana and has a death count >0. After \n",
    "# your search, print the date and the parish. Be sure to also close the input file.\n",
    "# Example output: ZZZZ parish reported the first covid-19 death in Louisiana on 2020-ZZ-ZZ\n",
    "\n",
    "# Code here...\n",
    "\n",
    "inFile = open(\"covidData_3.30.20.txt\",'r')\n",
    "\n",
    "parishes = re.search(r\"(.*Louisiana,)(\\d+)(,\\d+)(,[1])\",inFile.read())\n",
    "\n",
    "inFile.close()\n",
    "\n",
    "parishes=parishes.group() \n",
    "print(parishes)\n",
    "\n",
    "parishes.split(\",\")[1]+\" parish reported the first covid-19 death in Louisiana on \"+parishes.split(\",\")[0]\n",
    "\n",
    "\n"
   ]
  },
  {
   "cell_type": "code",
   "execution_count": 18,
   "metadata": {},
   "outputs": [],
   "source": [
    "# Now we need to create a new file that only has records from Louisiana. \n",
    "# Extract the lines that pertain to Louisiana and write them to a new file.\n",
    "\n",
    "# Code here...\n",
    "\n",
    "inFile = open(\"covidData_3.30.20.txt\",'r')\n",
    "\n",
    "parishes = re.findall(r\"(.*Louisiana,.*)\",inFile.read())\n",
    "\n",
    "FinalOut= open(\"finalout.txt\",\"w\")\n",
    "for i in parishes:\n",
    "        FinalOut.write(i+\"\\n\")\n",
    "        \n",
    "inFile.close()\n",
    "FinalOut.close()\n",
    "\n"
   ]
  },
  {
   "cell_type": "code",
   "execution_count": 22,
   "metadata": {},
   "outputs": [],
   "source": [
    "# Lastly, let's imagine that we want to do further downstream analyses with\n",
    "# the Louisiana data, but our downstream analyses require some formatting chanages.\n",
    "# Read in the lines from your newly created file with only Louisiana records, reformat them, \n",
    "# and create a separate file to hold the newly formatted information. Specifically, the \n",
    "# dates in the file should be reformatted from looking like this (2020-MM-DD) to looking \n",
    "# like this (MM.DD.2020). Also, the fips codes (in the 4th column) should be removed, and\n",
    "# Louisiana should be abbreviated as LA. So, this file should end up with entries that look\n",
    "# like this: 03.25.2020,Morehouse,LA,1,0\n",
    "\n",
    "# Code here...\n",
    "\n",
    "outfile=open(\"finalout2.txt\",\"w\")\n",
    "inFile = open(\"finalout.txt\",\"r\")\n",
    "for line in inFile.readlines():\n",
    "            line=line.strip().split(\",\")\n",
    "            date=line[0]\n",
    "            year=date.split(\"-\")[0]\n",
    "            month=date.split(\"-\")[1]\n",
    "            day=date.split(\"-\")[2]\n",
    "            outfile.write(month+\".\"+day+\".\"+year+\",\"+line[1]+\",\"+ \"LA\"+ \",\" +line[4] +\",\"+line[5]+\"\\n\")\n",
    "            \n",
    "outfile.close()\n",
    "inFile.close()       \n"
   ]
  }
 ],
 "metadata": {
  "kernelspec": {
   "display_name": "Python 3",
   "language": "python",
   "name": "python3"
  },
  "language_info": {
   "codemirror_mode": {
    "name": "ipython",
    "version": 3
   },
   "file_extension": ".py",
   "mimetype": "text/x-python",
   "name": "python",
   "nbconvert_exporter": "python",
   "pygments_lexer": "ipython3",
   "version": "3.6.4"
  }
 },
 "nbformat": 4,
 "nbformat_minor": 4
}
