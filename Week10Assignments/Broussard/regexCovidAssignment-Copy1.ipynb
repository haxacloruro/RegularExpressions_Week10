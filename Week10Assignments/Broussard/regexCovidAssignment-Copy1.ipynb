{
 "cells": [
  {
   "cell_type": "markdown",
   "metadata": {},
   "source": [
    "This assignment will give you practice with regular expressions (and other Python skills) by processing data on cumulative case counts and deaths in every county/parish in the US for covid-19. These data are compiled and updated regulary by the NY Times, and made available on GitHub: https://github.com/nytimes/covid-19-data. I downloaded the data on March 30th and have included that file (covidData_3.30.20.txt) in this week's repository.\n",
    "\n",
    "Each cell in this Jupyter notebook includes a comment that indicates what I want you to accomplish with Python code. To submit your assignment, please create your own folder (with your name) inside the assignments folder for this week. In this folder, please put the completed notebook and the new files you created. Please submit these via a pull request to the class GitHub page, as with previous weeks.\n",
    "\n",
    "If you have *any questions at all*, please let me know. I will be available for office hours via Zoom at our regularly scheduled class times. I'll also respond to all emails as quickly as possible.\n",
    "\n",
    "This assignment will be due by 5 PM next Monday, April 6th."
   ]
  },
  {
   "cell_type": "code",
   "execution_count": 1,
   "metadata": {},
   "outputs": [],
   "source": [
    "# Load the re module\n",
    "\n",
    "import re"
   ]
  },
  {
   "cell_type": "code",
   "execution_count": 2,
   "metadata": {},
   "outputs": [],
   "source": [
    "# Create a file object to read from the covid data file\n",
    "# This file contains cumulative case counts and deaths from \n",
    "# covid-19 for every country in the US. It was current as of\n",
    "# March 30th.\n",
    "\n",
    "#create file object to read from\n",
    "covidFile = open(\"covidData_3.30.20.txt\",'r')"
   ]
  },
  {
   "cell_type": "code",
   "execution_count": 3,
   "metadata": {},
   "outputs": [],
   "source": [
    "# Find all parishes from Louisiana in this file.\n",
    "# You should make a list that contains only the parish\n",
    "# names. This list can be created with a single command.\n",
    "# Be careful to include ALL the parishes in your search.\n",
    "\n",
    "#parishes = re.findall(r\",(.*),Louisiana\",covidFile.read())\n",
    "#print(parishes)\n",
    "\n",
    "listParishes = re.findall(r\",(.*),Louisiana\",covidFile.read())\n"
   ]
  },
  {
   "cell_type": "code",
   "execution_count": 4,
   "metadata": {},
   "outputs": [],
   "source": [
    "# Close the covid data file object\n",
    "\n",
    "covidFile.close()"
   ]
  },
  {
   "cell_type": "code",
   "execution_count": 5,
   "metadata": {},
   "outputs": [
    {
     "name": "stdout",
     "output_type": "stream",
     "text": [
      "['Jefferson', 'Jefferson', 'Orleans', 'Caddo', 'Jefferson', 'Orleans', 'Caddo', 'Jefferson', 'Orleans', 'Caddo', 'Jefferson', 'Orleans', 'St. Charles', 'St. Tammany', 'Terrebonne', 'Bossier', 'Caddo', 'Jefferson', 'Lafourche', 'Orleans', 'St. Charles', 'St. John the Baptist', 'St. Tammany', 'Terrebonne', 'Bossier', 'Caddo', 'Jefferson', 'Lafourche', 'Orleans', 'St. Bernard', 'St. Charles', 'St. John the Baptist', 'St. Tammany', 'Terrebonne', 'Ascension', 'Bossier', 'Caddo', 'Jefferson', 'Lafourche', 'Orleans', 'St. Bernard', 'St. Charles', 'St. John the Baptist', 'St. Tammany', 'Terrebonne', 'Ascension', 'Bossier', 'Caddo', 'East Baton Rouge', 'Jefferson', 'Lafourche', 'Orleans', 'St. Bernard', 'St. Charles', 'St. John the Baptist', 'St. Tammany', 'Terrebonne', 'Washington', 'Ascension', 'Bossier', 'Caddo', 'East Baton Rouge', 'Jefferson', 'Lafourche', 'Orleans', 'St. Bernard', 'St. Charles', 'St. John the Baptist', 'St. Tammany', 'Terrebonne', 'Unknown', 'Washington', 'Ascension', 'Assumption', 'Bossier', 'Caddo', 'Calcasieu', 'East Baton Rouge', 'Iberia', 'Iberville', 'Jefferson', 'Lafayette', 'Lafourche', 'Livingston', 'Orleans', 'Plaquemines', 'St. Bernard', 'St. Charles', 'St. James', 'St. John the Baptist', 'St. Landry', 'St. Tammany', 'Terrebonne', 'Unknown', 'Washington', 'Webster', 'West Baton Rouge', 'Ascension', 'Assumption', 'Bossier', 'Caddo', 'Calcasieu', 'Catahoula', 'De Soto', 'East Baton Rouge', 'Iberia', 'Iberville', 'Jefferson', 'Lafayette', 'Lafourche', 'Livingston', 'Orleans', 'Plaquemines', 'Rapides', 'St. Bernard', 'St. Charles', 'St. James', 'St. John the Baptist', 'St. Landry', 'St. Tammany', 'Tangipahoa', 'Terrebonne', 'Unknown', 'Washington', 'Webster', 'West Baton Rouge', 'Ascension', 'Assumption', 'Avoyelles', 'Beauregard', 'Bienville', 'Bossier', 'Caddo', 'Calcasieu', 'Catahoula', 'Claiborne', 'De Soto', 'East Baton Rouge', 'Evangeline', 'Iberia', 'Iberville', 'Jefferson', 'Lafayette', 'Lafourche', 'Livingston', 'Orleans', 'Ouachita', 'Plaquemines', 'Rapides', 'St. Bernard', 'St. Charles', 'St. James', 'St. John the Baptist', 'St. Landry', 'St. Mary', 'St. Tammany', 'Tangipahoa', 'Terrebonne', 'Unknown', 'Washington', 'Webster', 'West Baton Rouge', 'Acadia', 'Ascension', 'Assumption', 'Avoyelles', 'Beauregard', 'Bienville', 'Bossier', 'Caddo', 'Calcasieu', 'Catahoula', 'Claiborne', 'De Soto', 'East Baton Rouge', 'Evangeline', 'Iberia', 'Iberville', 'Jefferson', 'Lafayette', 'Lafourche', 'Livingston', 'Orleans', 'Ouachita', 'Plaquemines', 'Rapides', 'St. Bernard', 'St. Charles', 'St. James', 'St. John the Baptist', 'St. Landry', 'St. Mary', 'St. Tammany', 'Tangipahoa', 'Terrebonne', 'Unknown', 'Washington', 'Webster', 'West Baton Rouge', 'Acadia', 'Allen', 'Ascension', 'Assumption', 'Avoyelles', 'Beauregard', 'Bienville', 'Bossier', 'Caddo', 'Calcasieu', 'Catahoula', 'Claiborne', 'De Soto', 'East Baton Rouge', 'Evangeline', 'Grant', 'Iberia', 'Iberville', 'Jefferson', 'Lafayette', 'Lafourche', 'Lincoln', 'Livingston', 'Natchitoches', 'Orleans', 'Ouachita', 'Plaquemines', 'Rapides', 'Richland', 'St. Bernard', 'St. Charles', 'St. James', 'St. John the Baptist', 'St. Landry', 'St. Martin', 'St. Mary', 'St. Tammany', 'Tangipahoa', 'Terrebonne', 'Unknown', 'Washington', 'Webster', 'West Baton Rouge', 'Acadia', 'Allen', 'Ascension', 'Assumption', 'Avoyelles', 'Beauregard', 'Bienville', 'Bossier', 'Caddo', 'Calcasieu', 'Catahoula', 'Claiborne', 'De Soto', 'East Baton Rouge', 'Evangeline', 'Grant', 'Iberia', 'Iberville', 'Jefferson', 'Lafayette', 'Lafourche', 'Lincoln', 'Livingston', 'Natchitoches', 'Orleans', 'Ouachita', 'Plaquemines', 'Rapides', 'Richland', 'St. Bernard', 'St. Charles', 'St. James', 'St. John the Baptist', 'St. Landry', 'St. Martin', 'St. Mary', 'St. Tammany', 'Tangipahoa', 'Terrebonne', 'Unknown', 'Vernon', 'Washington', 'Webster', 'West Baton Rouge', 'Acadia', 'Allen', 'Ascension', 'Assumption', 'Avoyelles', 'Beauregard', 'Bienville', 'Bossier', 'Caddo', 'Calcasieu', 'Catahoula', 'Claiborne', 'De Soto', 'East Baton Rouge', 'Evangeline', 'Grant', 'Iberia', 'Iberville', 'Jackson', 'Jefferson', 'Jefferson Davis', 'Lafayette', 'Lafourche', 'Lincoln', 'Livingston', 'Morehouse', 'Natchitoches', 'Orleans', 'Ouachita', 'Plaquemines', 'Rapides', 'Richland', 'St. Bernard', 'St. Charles', 'St. James', 'St. John the Baptist', 'St. Landry', 'St. Martin', 'St. Mary', 'St. Tammany', 'Tangipahoa', 'Terrebonne', 'Union', 'Unknown', 'Vernon', 'Washington', 'Webster', 'West Baton Rouge', 'Winn', 'Acadia', 'Allen', 'Ascension', 'Assumption', 'Avoyelles', 'Beauregard', 'Bienville', 'Bossier', 'Caddo', 'Calcasieu', 'Catahoula', 'Claiborne', 'De Soto', 'East Baton Rouge', 'East Feliciana', 'Evangeline', 'Grant', 'Iberia', 'Iberville', 'Jackson', 'Jefferson', 'Jefferson Davis', 'LaSalle', 'Lafayette', 'Lafourche', 'Lincoln', 'Livingston', 'Madison', 'Morehouse', 'Natchitoches', 'Orleans', 'Ouachita', 'Plaquemines', 'Pointe Coupee', 'Rapides', 'Richland', 'St. Bernard', 'St. Charles', 'St. James', 'St. John the Baptist', 'St. Landry', 'St. Martin', 'St. Mary', 'St. Tammany', 'Tangipahoa', 'Terrebonne', 'Union', 'Unknown', 'Vermilion', 'Vernon', 'Washington', 'Webster', 'West Baton Rouge', 'Winn', 'Acadia', 'Allen', 'Ascension', 'Assumption', 'Avoyelles', 'Beauregard', 'Bienville', 'Bossier', 'Caddo', 'Calcasieu', 'Catahoula', 'Claiborne', 'De Soto', 'East Baton Rouge', 'East Feliciana', 'Evangeline', 'Grant', 'Iberia', 'Iberville', 'Jackson', 'Jefferson', 'Jefferson Davis', 'LaSalle', 'Lafayette', 'Lafourche', 'Lincoln', 'Livingston', 'Madison', 'Morehouse', 'Natchitoches', 'Orleans', 'Ouachita', 'Plaquemines', 'Pointe Coupee', 'Rapides', 'Richland', 'St. Bernard', 'St. Charles', 'St. James', 'St. John the Baptist', 'St. Landry', 'St. Martin', 'St. Mary', 'St. Tammany', 'Tangipahoa', 'Terrebonne', 'Union', 'Unknown', 'Vermilion', 'Vernon', 'Washington', 'Webster', 'West Baton Rouge', 'West Feliciana', 'Winn', 'Acadia', 'Allen', 'Ascension', 'Assumption', 'Avoyelles', 'Beauregard', 'Bienville', 'Bossier', 'Caddo', 'Calcasieu', 'Catahoula', 'Claiborne', 'De Soto', 'East Baton Rouge', 'East Carroll', 'East Feliciana', 'Evangeline', 'Franklin', 'Grant', 'Iberia', 'Iberville', 'Jackson', 'Jefferson', 'Jefferson Davis', 'LaSalle', 'Lafayette', 'Lafourche', 'Lincoln', 'Livingston', 'Madison', 'Morehouse', 'Natchitoches', 'Orleans', 'Ouachita', 'Plaquemines', 'Pointe Coupee', 'Rapides', 'Richland', 'St. Bernard', 'St. Charles', 'St. James', 'St. John the Baptist', 'St. Landry', 'St. Martin', 'St. Mary', 'St. Tammany', 'Tangipahoa', 'Terrebonne', 'Union', 'Unknown', 'Vermilion', 'Vernon', 'Washington', 'Webster', 'West Baton Rouge', 'West Feliciana', 'Winn', 'Acadia', 'Allen', 'Ascension', 'Assumption', 'Avoyelles', 'Beauregard', 'Bienville', 'Bossier', 'Caddo', 'Calcasieu', 'Caldwell', 'Catahoula', 'Claiborne', 'De Soto', 'East Baton Rouge', 'East Carroll', 'East Feliciana', 'Evangeline', 'Franklin', 'Grant', 'Iberia', 'Iberville', 'Jackson', 'Jefferson', 'Jefferson Davis', 'LaSalle', 'Lafayette', 'Lafourche', 'Lincoln', 'Livingston', 'Madison', 'Morehouse', 'Natchitoches', 'Orleans', 'Ouachita', 'Plaquemines', 'Pointe Coupee', 'Rapides', 'Red River', 'Richland', 'Sabine', 'St. Bernard', 'St. Charles', 'St. James', 'St. John the Baptist', 'St. Landry', 'St. Martin', 'St. Mary', 'St. Tammany', 'Tangipahoa', 'Terrebonne', 'Union', 'Unknown', 'Vermilion', 'Vernon', 'Washington', 'Webster', 'West Baton Rouge', 'West Feliciana', 'Winn']\n"
     ]
    }
   ],
   "source": [
    "# Print out the Louisiana search results\n",
    "\n",
    "print(listParishes)"
   ]
  },
  {
   "cell_type": "code",
   "execution_count": 6,
   "metadata": {},
   "outputs": [],
   "source": [
    "# Create a dictionary that has the Louisiana parish \n",
    "# names as keys and the number of times they appear \n",
    "# in the data file as values.\n",
    "\n",
    "# Hint: You can test if a dictionary does or does not\n",
    "# contain a certain key using:\n",
    "# myKey in myDict --or-- myKey not in myDict\n",
    "\n",
    "#count number of time parish appears in list. \n",
    "#The output gives you all the info you want so just save that as a dictionary\n",
    "from collections import Counter\n",
    "covidDict = Counter(listParishes)\n",
    "\n",
    "#Test:\n",
    "#covidDict[\"Jefferson\"]\n",
    "#Success!"
   ]
  },
  {
   "cell_type": "code",
   "execution_count": 7,
   "metadata": {},
   "outputs": [
    {
     "name": "stdout",
     "output_type": "stream",
     "text": [
      "Jefferson\n"
     ]
    }
   ],
   "source": [
    "# Using your dictionary, figure out which of these parishes has\n",
    "# the most entries in the file. The one with the most entries\n",
    "# had the earliest observed covid case.\n",
    "# Jefferson, Orleans, East Baton Rouge, Plaquemines\n",
    "\n",
    "mostCases = max(covidDict, key=covidDict.get)\n",
    "print(mostCases)"
   ]
  },
  {
   "cell_type": "code",
   "execution_count": 8,
   "metadata": {},
   "outputs": [
    {
     "data": {
      "text/plain": [
       "60"
      ]
     },
     "execution_count": 8,
     "metadata": {},
     "output_type": "execute_result"
    }
   ],
   "source": [
    "# Figure out how many parishes are in the dictionary. How does \n",
    "# this compare to the total number of parishes in the state?\n",
    "\n",
    "#Count number of entries in dictionary\n",
    "len(covidDict)\n",
    "\n",
    "#There are 64 parishes in Louisiana, ad 60 of them have covid19 cases"
   ]
  },
  {
   "cell_type": "code",
   "execution_count": 9,
   "metadata": {},
   "outputs": [
    {
     "name": "stdout",
     "output_type": "stream",
     "text": [
      "Orleans parish reported the first death related to covid-19 in Louisiana on 2020-03-14\n"
     ]
    }
   ],
   "source": [
    "# Now, reopen the data file and use a regex search to find the first instance \n",
    "# where a Louisiana parish recorded a covid-19 death. This will be the first \n",
    "# line in the file that includes Louisiana and has a death count >0. After \n",
    "# your search, print the date and the parish. Be sure to also close the input file.\n",
    "# Example output: ZZZZ parish reported the first covid-19 death in Louisiana on 2020-ZZ-ZZ\n",
    "\n",
    "#open file\n",
    "covidFile = open(\"covidData_3.30.20.txt\",'r')\n",
    "#regex search for first LA death, and single out the date and parish to print later\n",
    "firstDeath = re.search(r\"(.*),(.*),Louisiana,.*,.*,[1+]\",covidFile.read())\n",
    "#print(firstDeath)\n",
    "\n",
    "#close file\n",
    "covidFile.close()\n",
    "\n",
    "#print results in a readable manner\n",
    "print(firstDeath[2] +\" parish reported the first death related to covid-19 in Louisiana on \" + firstDeath[1])\n"
   ]
  },
  {
   "cell_type": "code",
   "execution_count": 10,
   "metadata": {},
   "outputs": [],
   "source": [
    "# Now we need to create a new file that only has records from Louisiana. \n",
    "# Extract the lines that pertain to Louisiana and write them to a new file.\n",
    "\n",
    "#Open covid file and new file for LA data\n",
    "covidFile = open(\"covidData_3.30.20.txt\")\n",
    "covidLA = open(\"covidLa.txt\",'w')\n",
    "\n",
    "\n",
    "#If a line in covidFile has Lousisiana, append that line to covidLA\n",
    "dataLA = re.findall(r\".*Louisiana.*\",covidFile.read())\n",
    "\n",
    "#Close covidFile\n",
    "covidFile.close()\n",
    "\n",
    "#Test\n",
    "#print(dataLA)\n",
    "\n",
    "#Convert list to string\n",
    "dataLAstr = '\\n'.join(dataLA)\n",
    "\n",
    "#Append dataLA to covidLA file\n",
    "covidLA.write(dataLAstr)\n",
    "\n",
    "#Close covidLA file\n",
    "covidLA.close()"
   ]
  },
  {
   "cell_type": "code",
   "execution_count": 59,
   "metadata": {},
   "outputs": [],
   "source": [
    "# Lastly, let's imagine that we want to do further downstream analyses with\n",
    "# the Louisiana data, but our downstream analyses require some formatting chanages.\n",
    "# Read in the lines from your newly created file with only Louisiana records, reformat them, \n",
    "# and create a separate file to hold the newly formatted information. Specifically, the \n",
    "# dates in the file should be reformatted from looking like this (2020-MM-DD) to looking \n",
    "# like this (MM.DD.2020). Also, the fips codes (in the 4th column) should be removed, and\n",
    "# Louisiana should be abbreviated as LA. So, this file should end up with entries that look\n",
    "# like this: 03.25.2020,Morehouse,LA,1,0\n",
    "\n",
    "#Open LA data file\n",
    "covidLA = open(\"covidLa.txt\",'r')\n",
    "\n",
    "#Create new file for reformatted data\n",
    "rfCovidLA = open(\"rfCovidLa.txt\",'w')\n",
    "\n",
    "#Reformat dates\n",
    "#newDate = re.sub(r\"(dddd)/(dd)/(dd),\"),r\"\\2/\\3/\\1\",covidLA.read())\n",
    "import re\n",
    "newDates = re.sub(r\"(\\d*)-(\\d*)-(\\d*),\",r\"\\2.\\3.\\1,\",covidLA.read())\n",
    "#print(newDates)\n",
    "\n",
    "#write data to rfCovidLA file\n",
    "rfCovidLA.write(newDates)\n",
    "             \n",
    "#close rfCovidLA\n",
    "rfCovidLA.close()\n",
    "\n",
    "\n",
    "#Open rfCovidLA as read\n",
    "rfCovidLA = open(\"rfCovidLa.txt\", 'r')    \n",
    "    \n",
    "#Abbreviate to LA\n",
    "abbrev = re.sub(r\"Louisiana\",r\"LA\",rfCovidLA.read())\n",
    "#print(abbrev)\n",
    "\n",
    "#Open rfCovidLA as write\n",
    "rfCovidLA = open(\"rfCovidLa.txt\", 'w')    \n",
    "\n",
    "#Write data to rfCovidLA file\n",
    "rfCovidLA.write(abbrev)\n",
    "\n",
    "\n",
    "#Open rfCovidLA as read\n",
    "rfCovidLA = open(\"rfCovidLa.txt\", 'r')    \n",
    "\n",
    "#Remove fips codes\n",
    "rmFlip = re.sub(r\"(LA)(,.*),(.*),(.*)\",r\"\\1,\\3,\\4\",rfCovidLA.read())\n",
    "#print(rmFlip)\n",
    "\n",
    "#Open rfCovidLA as write\n",
    "rfCovidLA = open(\"rfCovidLa.txt\", 'w')    \n",
    "\n",
    "#Write data to rfCovidLA file\n",
    "rfCovidLA.write(rmFlip)\n",
    "\n",
    "\n",
    "#Close files\n",
    "rfCovidLA.close()\n",
    "covidLA.close()"
   ]
  },
  {
   "cell_type": "code",
   "execution_count": null,
   "metadata": {},
   "outputs": [],
   "source": []
  }
 ],
 "metadata": {
  "kernelspec": {
   "display_name": "Python 3",
   "language": "python",
   "name": "python3"
  },
  "language_info": {
   "codemirror_mode": {
    "name": "ipython",
    "version": 3
   },
   "file_extension": ".py",
   "mimetype": "text/x-python",
   "name": "python",
   "nbconvert_exporter": "python",
   "pygments_lexer": "ipython3",
   "version": "3.6.4"
  }
 },
 "nbformat": 4,
 "nbformat_minor": 4
}
