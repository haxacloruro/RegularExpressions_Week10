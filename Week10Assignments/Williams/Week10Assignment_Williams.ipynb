{
 "cells": [
  {
   "cell_type": "code",
   "execution_count": 1,
   "metadata": {},
   "outputs": [],
   "source": [
    "#imports covidData_3.30.20.txt as a text file named covid19Data.txt\n",
    "import requests\n",
    "url = 'https://raw.github.com/IntroToCompBioLSU-Spr20/RegularExpressions_Week10/master/covidData_3.30.20.txt'\n",
    "r=requests.get(url)\n",
    "with open(\"covid19Data.txt\",\"wb\") as code:\n",
    "     code.write(r.content)"
   ]
  },
  {
   "cell_type": "code",
   "execution_count": 2,
   "metadata": {},
   "outputs": [],
   "source": [
    "# Load the re module\n",
    "\n",
    "import re"
   ]
  },
  {
   "cell_type": "code",
   "execution_count": 3,
   "metadata": {},
   "outputs": [],
   "source": [
    "# Create a file object to read from the covid data file\n",
    "# This file contains cumulative case counts and deaths from \n",
    "# covid-19 for every country in the US. It was current as of\n",
    "# March 30th.\n",
    "\n",
    "#opens covid19Data.txt and makes it readable. The if statement checks if the file is readable and saves the contents as a variable.\n",
    "f= open(\"covid19Data.txt\", \"r\")\n",
    "if f.mode == 'r':\n",
    "    contents =f.read()\n",
    "else:\n",
    "    print(\"File not in read mode.\")\n"
   ]
  },
  {
   "cell_type": "code",
   "execution_count": 4,
   "metadata": {},
   "outputs": [
    {
     "name": "stdout",
     "output_type": "stream",
     "text": [
      "['Jefferson', 'Jefferson', 'Orleans', 'Caddo', 'Jefferson', 'Orleans', 'Caddo', 'Jefferson', 'Orleans', 'Caddo', 'Jefferson', 'Orleans', 'St. Charles', 'St. Tammany', 'Terrebonne', 'Bossier', 'Caddo', 'Jefferson', 'Lafourche', 'Orleans', 'St. Charles', 'St. John the Baptist', 'St. Tammany', 'Terrebonne', 'Bossier', 'Caddo', 'Jefferson', 'Lafourche', 'Orleans', 'St. Bernard', 'St. Charles', 'St. John the Baptist', 'St. Tammany', 'Terrebonne', 'Ascension', 'Bossier', 'Caddo', 'Jefferson', 'Lafourche', 'Orleans', 'St. Bernard', 'St. Charles', 'St. John the Baptist', 'St. Tammany', 'Terrebonne', 'Ascension', 'Bossier', 'Caddo', 'East Baton Rouge', 'Jefferson', 'Lafourche', 'Orleans', 'St. Bernard', 'St. Charles', 'St. John the Baptist', 'St. Tammany', 'Terrebonne', 'Washington', 'Ascension', 'Bossier', 'Caddo', 'East Baton Rouge', 'Jefferson', 'Lafourche', 'Orleans', 'St. Bernard', 'St. Charles', 'St. John the Baptist', 'St. Tammany', 'Terrebonne', 'Unknown', 'Washington', 'Ascension', 'Assumption', 'Bossier', 'Caddo', 'Calcasieu', 'East Baton Rouge', 'Iberia', 'Iberville', 'Jefferson', 'Lafayette', 'Lafourche', 'Livingston', 'Orleans', 'Plaquemines', 'St. Bernard', 'St. Charles', 'St. James', 'St. John the Baptist', 'St. Landry', 'St. Tammany', 'Terrebonne', 'Unknown', 'Washington', 'Webster', 'West Baton Rouge', 'Ascension', 'Assumption', 'Bossier', 'Caddo', 'Calcasieu', 'Catahoula', 'De Soto', 'East Baton Rouge', 'Iberia', 'Iberville', 'Jefferson', 'Lafayette', 'Lafourche', 'Livingston', 'Orleans', 'Plaquemines', 'Rapides', 'St. Bernard', 'St. Charles', 'St. James', 'St. John the Baptist', 'St. Landry', 'St. Tammany', 'Tangipahoa', 'Terrebonne', 'Unknown', 'Washington', 'Webster', 'West Baton Rouge', 'Ascension', 'Assumption', 'Avoyelles', 'Beauregard', 'Bienville', 'Bossier', 'Caddo', 'Calcasieu', 'Catahoula', 'Claiborne', 'De Soto', 'East Baton Rouge', 'Evangeline', 'Iberia', 'Iberville', 'Jefferson', 'Lafayette', 'Lafourche', 'Livingston', 'Orleans', 'Ouachita', 'Plaquemines', 'Rapides', 'St. Bernard', 'St. Charles', 'St. James', 'St. John the Baptist', 'St. Landry', 'St. Mary', 'St. Tammany', 'Tangipahoa', 'Terrebonne', 'Unknown', 'Washington', 'Webster', 'West Baton Rouge', 'Acadia', 'Ascension', 'Assumption', 'Avoyelles', 'Beauregard', 'Bienville', 'Bossier', 'Caddo', 'Calcasieu', 'Catahoula', 'Claiborne', 'De Soto', 'East Baton Rouge', 'Evangeline', 'Iberia', 'Iberville', 'Jefferson', 'Lafayette', 'Lafourche', 'Livingston', 'Orleans', 'Ouachita', 'Plaquemines', 'Rapides', 'St. Bernard', 'St. Charles', 'St. James', 'St. John the Baptist', 'St. Landry', 'St. Mary', 'St. Tammany', 'Tangipahoa', 'Terrebonne', 'Unknown', 'Washington', 'Webster', 'West Baton Rouge', 'Acadia', 'Allen', 'Ascension', 'Assumption', 'Avoyelles', 'Beauregard', 'Bienville', 'Bossier', 'Caddo', 'Calcasieu', 'Catahoula', 'Claiborne', 'De Soto', 'East Baton Rouge', 'Evangeline', 'Grant', 'Iberia', 'Iberville', 'Jefferson', 'Lafayette', 'Lafourche', 'Lincoln', 'Livingston', 'Natchitoches', 'Orleans', 'Ouachita', 'Plaquemines', 'Rapides', 'Richland', 'St. Bernard', 'St. Charles', 'St. James', 'St. John the Baptist', 'St. Landry', 'St. Martin', 'St. Mary', 'St. Tammany', 'Tangipahoa', 'Terrebonne', 'Unknown', 'Washington', 'Webster', 'West Baton Rouge', 'Acadia', 'Allen', 'Ascension', 'Assumption', 'Avoyelles', 'Beauregard', 'Bienville', 'Bossier', 'Caddo', 'Calcasieu', 'Catahoula', 'Claiborne', 'De Soto', 'East Baton Rouge', 'Evangeline', 'Grant', 'Iberia', 'Iberville', 'Jefferson', 'Lafayette', 'Lafourche', 'Lincoln', 'Livingston', 'Natchitoches', 'Orleans', 'Ouachita', 'Plaquemines', 'Rapides', 'Richland', 'St. Bernard', 'St. Charles', 'St. James', 'St. John the Baptist', 'St. Landry', 'St. Martin', 'St. Mary', 'St. Tammany', 'Tangipahoa', 'Terrebonne', 'Unknown', 'Vernon', 'Washington', 'Webster', 'West Baton Rouge', 'Acadia', 'Allen', 'Ascension', 'Assumption', 'Avoyelles', 'Beauregard', 'Bienville', 'Bossier', 'Caddo', 'Calcasieu', 'Catahoula', 'Claiborne', 'De Soto', 'East Baton Rouge', 'Evangeline', 'Grant', 'Iberia', 'Iberville', 'Jackson', 'Jefferson', 'Jefferson Davis', 'Lafayette', 'Lafourche', 'Lincoln', 'Livingston', 'Morehouse', 'Natchitoches', 'Orleans', 'Ouachita', 'Plaquemines', 'Rapides', 'Richland', 'St. Bernard', 'St. Charles', 'St. James', 'St. John the Baptist', 'St. Landry', 'St. Martin', 'St. Mary', 'St. Tammany', 'Tangipahoa', 'Terrebonne', 'Union', 'Unknown', 'Vernon', 'Washington', 'Webster', 'West Baton Rouge', 'Winn', 'Acadia', 'Allen', 'Ascension', 'Assumption', 'Avoyelles', 'Beauregard', 'Bienville', 'Bossier', 'Caddo', 'Calcasieu', 'Catahoula', 'Claiborne', 'De Soto', 'East Baton Rouge', 'East Feliciana', 'Evangeline', 'Grant', 'Iberia', 'Iberville', 'Jackson', 'Jefferson', 'Jefferson Davis', 'LaSalle', 'Lafayette', 'Lafourche', 'Lincoln', 'Livingston', 'Madison', 'Morehouse', 'Natchitoches', 'Orleans', 'Ouachita', 'Plaquemines', 'Pointe Coupee', 'Rapides', 'Richland', 'St. Bernard', 'St. Charles', 'St. James', 'St. John the Baptist', 'St. Landry', 'St. Martin', 'St. Mary', 'St. Tammany', 'Tangipahoa', 'Terrebonne', 'Union', 'Unknown', 'Vermilion', 'Vernon', 'Washington', 'Webster', 'West Baton Rouge', 'Winn', 'Acadia', 'Allen', 'Ascension', 'Assumption', 'Avoyelles', 'Beauregard', 'Bienville', 'Bossier', 'Caddo', 'Calcasieu', 'Catahoula', 'Claiborne', 'De Soto', 'East Baton Rouge', 'East Feliciana', 'Evangeline', 'Grant', 'Iberia', 'Iberville', 'Jackson', 'Jefferson', 'Jefferson Davis', 'LaSalle', 'Lafayette', 'Lafourche', 'Lincoln', 'Livingston', 'Madison', 'Morehouse', 'Natchitoches', 'Orleans', 'Ouachita', 'Plaquemines', 'Pointe Coupee', 'Rapides', 'Richland', 'St. Bernard', 'St. Charles', 'St. James', 'St. John the Baptist', 'St. Landry', 'St. Martin', 'St. Mary', 'St. Tammany', 'Tangipahoa', 'Terrebonne', 'Union', 'Unknown', 'Vermilion', 'Vernon', 'Washington', 'Webster', 'West Baton Rouge', 'West Feliciana', 'Winn', 'Acadia', 'Allen', 'Ascension', 'Assumption', 'Avoyelles', 'Beauregard', 'Bienville', 'Bossier', 'Caddo', 'Calcasieu', 'Catahoula', 'Claiborne', 'De Soto', 'East Baton Rouge', 'East Carroll', 'East Feliciana', 'Evangeline', 'Franklin', 'Grant', 'Iberia', 'Iberville', 'Jackson', 'Jefferson', 'Jefferson Davis', 'LaSalle', 'Lafayette', 'Lafourche', 'Lincoln', 'Livingston', 'Madison', 'Morehouse', 'Natchitoches', 'Orleans', 'Ouachita', 'Plaquemines', 'Pointe Coupee', 'Rapides', 'Richland', 'St. Bernard', 'St. Charles', 'St. James', 'St. John the Baptist', 'St. Landry', 'St. Martin', 'St. Mary', 'St. Tammany', 'Tangipahoa', 'Terrebonne', 'Union', 'Unknown', 'Vermilion', 'Vernon', 'Washington', 'Webster', 'West Baton Rouge', 'West Feliciana', 'Winn', 'Acadia', 'Allen', 'Ascension', 'Assumption', 'Avoyelles', 'Beauregard', 'Bienville', 'Bossier', 'Caddo', 'Calcasieu', 'Caldwell', 'Catahoula', 'Claiborne', 'De Soto', 'East Baton Rouge', 'East Carroll', 'East Feliciana', 'Evangeline', 'Franklin', 'Grant', 'Iberia', 'Iberville', 'Jackson', 'Jefferson', 'Jefferson Davis', 'LaSalle', 'Lafayette', 'Lafourche', 'Lincoln', 'Livingston', 'Madison', 'Morehouse', 'Natchitoches', 'Orleans', 'Ouachita', 'Plaquemines', 'Pointe Coupee', 'Rapides', 'Red River', 'Richland', 'Sabine', 'St. Bernard', 'St. Charles', 'St. James', 'St. John the Baptist', 'St. Landry', 'St. Martin', 'St. Mary', 'St. Tammany', 'Tangipahoa', 'Terrebonne', 'Union', 'Unknown', 'Vermilion', 'Vernon', 'Washington', 'Webster', 'West Baton Rouge', 'West Feliciana', 'Winn']\n"
     ]
    }
   ],
   "source": [
    "# Find all parishes from Louisiana in this file.\n",
    "# You should make a list that contains only the parish\n",
    "# names. This list can be created with a single command.\n",
    "# Be careful to include ALL the parishes in your search.\n",
    "\n",
    "#Reads through contents and creates a list of all the parishes in Louisiana included in the file. Prints the list to make sure it worked correctly.\n",
    "matches = re.findall(r\"(?<=,)(.*)(?=,Louisiana)\",contents)\n",
    "print(matches)"
   ]
  },
  {
   "cell_type": "code",
   "execution_count": 5,
   "metadata": {},
   "outputs": [],
   "source": [
    "# Close the covid data file object\n",
    "\n",
    "f.close()"
   ]
  },
  {
   "cell_type": "code",
   "execution_count": 6,
   "metadata": {},
   "outputs": [
    {
     "name": "stdout",
     "output_type": "stream",
     "text": [
      "['Jefferson', 'Jefferson', 'Orleans', 'Caddo', 'Jefferson', 'Orleans', 'Caddo', 'Jefferson', 'Orleans', 'Caddo', 'Jefferson', 'Orleans', 'St. Charles', 'St. Tammany', 'Terrebonne', 'Bossier', 'Caddo', 'Jefferson', 'Lafourche', 'Orleans', 'St. Charles', 'St. John the Baptist', 'St. Tammany', 'Terrebonne', 'Bossier', 'Caddo', 'Jefferson', 'Lafourche', 'Orleans', 'St. Bernard', 'St. Charles', 'St. John the Baptist', 'St. Tammany', 'Terrebonne', 'Ascension', 'Bossier', 'Caddo', 'Jefferson', 'Lafourche', 'Orleans', 'St. Bernard', 'St. Charles', 'St. John the Baptist', 'St. Tammany', 'Terrebonne', 'Ascension', 'Bossier', 'Caddo', 'East Baton Rouge', 'Jefferson', 'Lafourche', 'Orleans', 'St. Bernard', 'St. Charles', 'St. John the Baptist', 'St. Tammany', 'Terrebonne', 'Washington', 'Ascension', 'Bossier', 'Caddo', 'East Baton Rouge', 'Jefferson', 'Lafourche', 'Orleans', 'St. Bernard', 'St. Charles', 'St. John the Baptist', 'St. Tammany', 'Terrebonne', 'Unknown', 'Washington', 'Ascension', 'Assumption', 'Bossier', 'Caddo', 'Calcasieu', 'East Baton Rouge', 'Iberia', 'Iberville', 'Jefferson', 'Lafayette', 'Lafourche', 'Livingston', 'Orleans', 'Plaquemines', 'St. Bernard', 'St. Charles', 'St. James', 'St. John the Baptist', 'St. Landry', 'St. Tammany', 'Terrebonne', 'Unknown', 'Washington', 'Webster', 'West Baton Rouge', 'Ascension', 'Assumption', 'Bossier', 'Caddo', 'Calcasieu', 'Catahoula', 'De Soto', 'East Baton Rouge', 'Iberia', 'Iberville', 'Jefferson', 'Lafayette', 'Lafourche', 'Livingston', 'Orleans', 'Plaquemines', 'Rapides', 'St. Bernard', 'St. Charles', 'St. James', 'St. John the Baptist', 'St. Landry', 'St. Tammany', 'Tangipahoa', 'Terrebonne', 'Unknown', 'Washington', 'Webster', 'West Baton Rouge', 'Ascension', 'Assumption', 'Avoyelles', 'Beauregard', 'Bienville', 'Bossier', 'Caddo', 'Calcasieu', 'Catahoula', 'Claiborne', 'De Soto', 'East Baton Rouge', 'Evangeline', 'Iberia', 'Iberville', 'Jefferson', 'Lafayette', 'Lafourche', 'Livingston', 'Orleans', 'Ouachita', 'Plaquemines', 'Rapides', 'St. Bernard', 'St. Charles', 'St. James', 'St. John the Baptist', 'St. Landry', 'St. Mary', 'St. Tammany', 'Tangipahoa', 'Terrebonne', 'Unknown', 'Washington', 'Webster', 'West Baton Rouge', 'Acadia', 'Ascension', 'Assumption', 'Avoyelles', 'Beauregard', 'Bienville', 'Bossier', 'Caddo', 'Calcasieu', 'Catahoula', 'Claiborne', 'De Soto', 'East Baton Rouge', 'Evangeline', 'Iberia', 'Iberville', 'Jefferson', 'Lafayette', 'Lafourche', 'Livingston', 'Orleans', 'Ouachita', 'Plaquemines', 'Rapides', 'St. Bernard', 'St. Charles', 'St. James', 'St. John the Baptist', 'St. Landry', 'St. Mary', 'St. Tammany', 'Tangipahoa', 'Terrebonne', 'Unknown', 'Washington', 'Webster', 'West Baton Rouge', 'Acadia', 'Allen', 'Ascension', 'Assumption', 'Avoyelles', 'Beauregard', 'Bienville', 'Bossier', 'Caddo', 'Calcasieu', 'Catahoula', 'Claiborne', 'De Soto', 'East Baton Rouge', 'Evangeline', 'Grant', 'Iberia', 'Iberville', 'Jefferson', 'Lafayette', 'Lafourche', 'Lincoln', 'Livingston', 'Natchitoches', 'Orleans', 'Ouachita', 'Plaquemines', 'Rapides', 'Richland', 'St. Bernard', 'St. Charles', 'St. James', 'St. John the Baptist', 'St. Landry', 'St. Martin', 'St. Mary', 'St. Tammany', 'Tangipahoa', 'Terrebonne', 'Unknown', 'Washington', 'Webster', 'West Baton Rouge', 'Acadia', 'Allen', 'Ascension', 'Assumption', 'Avoyelles', 'Beauregard', 'Bienville', 'Bossier', 'Caddo', 'Calcasieu', 'Catahoula', 'Claiborne', 'De Soto', 'East Baton Rouge', 'Evangeline', 'Grant', 'Iberia', 'Iberville', 'Jefferson', 'Lafayette', 'Lafourche', 'Lincoln', 'Livingston', 'Natchitoches', 'Orleans', 'Ouachita', 'Plaquemines', 'Rapides', 'Richland', 'St. Bernard', 'St. Charles', 'St. James', 'St. John the Baptist', 'St. Landry', 'St. Martin', 'St. Mary', 'St. Tammany', 'Tangipahoa', 'Terrebonne', 'Unknown', 'Vernon', 'Washington', 'Webster', 'West Baton Rouge', 'Acadia', 'Allen', 'Ascension', 'Assumption', 'Avoyelles', 'Beauregard', 'Bienville', 'Bossier', 'Caddo', 'Calcasieu', 'Catahoula', 'Claiborne', 'De Soto', 'East Baton Rouge', 'Evangeline', 'Grant', 'Iberia', 'Iberville', 'Jackson', 'Jefferson', 'Jefferson Davis', 'Lafayette', 'Lafourche', 'Lincoln', 'Livingston', 'Morehouse', 'Natchitoches', 'Orleans', 'Ouachita', 'Plaquemines', 'Rapides', 'Richland', 'St. Bernard', 'St. Charles', 'St. James', 'St. John the Baptist', 'St. Landry', 'St. Martin', 'St. Mary', 'St. Tammany', 'Tangipahoa', 'Terrebonne', 'Union', 'Unknown', 'Vernon', 'Washington', 'Webster', 'West Baton Rouge', 'Winn', 'Acadia', 'Allen', 'Ascension', 'Assumption', 'Avoyelles', 'Beauregard', 'Bienville', 'Bossier', 'Caddo', 'Calcasieu', 'Catahoula', 'Claiborne', 'De Soto', 'East Baton Rouge', 'East Feliciana', 'Evangeline', 'Grant', 'Iberia', 'Iberville', 'Jackson', 'Jefferson', 'Jefferson Davis', 'LaSalle', 'Lafayette', 'Lafourche', 'Lincoln', 'Livingston', 'Madison', 'Morehouse', 'Natchitoches', 'Orleans', 'Ouachita', 'Plaquemines', 'Pointe Coupee', 'Rapides', 'Richland', 'St. Bernard', 'St. Charles', 'St. James', 'St. John the Baptist', 'St. Landry', 'St. Martin', 'St. Mary', 'St. Tammany', 'Tangipahoa', 'Terrebonne', 'Union', 'Unknown', 'Vermilion', 'Vernon', 'Washington', 'Webster', 'West Baton Rouge', 'Winn', 'Acadia', 'Allen', 'Ascension', 'Assumption', 'Avoyelles', 'Beauregard', 'Bienville', 'Bossier', 'Caddo', 'Calcasieu', 'Catahoula', 'Claiborne', 'De Soto', 'East Baton Rouge', 'East Feliciana', 'Evangeline', 'Grant', 'Iberia', 'Iberville', 'Jackson', 'Jefferson', 'Jefferson Davis', 'LaSalle', 'Lafayette', 'Lafourche', 'Lincoln', 'Livingston', 'Madison', 'Morehouse', 'Natchitoches', 'Orleans', 'Ouachita', 'Plaquemines', 'Pointe Coupee', 'Rapides', 'Richland', 'St. Bernard', 'St. Charles', 'St. James', 'St. John the Baptist', 'St. Landry', 'St. Martin', 'St. Mary', 'St. Tammany', 'Tangipahoa', 'Terrebonne', 'Union', 'Unknown', 'Vermilion', 'Vernon', 'Washington', 'Webster', 'West Baton Rouge', 'West Feliciana', 'Winn', 'Acadia', 'Allen', 'Ascension', 'Assumption', 'Avoyelles', 'Beauregard', 'Bienville', 'Bossier', 'Caddo', 'Calcasieu', 'Catahoula', 'Claiborne', 'De Soto', 'East Baton Rouge', 'East Carroll', 'East Feliciana', 'Evangeline', 'Franklin', 'Grant', 'Iberia', 'Iberville', 'Jackson', 'Jefferson', 'Jefferson Davis', 'LaSalle', 'Lafayette', 'Lafourche', 'Lincoln', 'Livingston', 'Madison', 'Morehouse', 'Natchitoches', 'Orleans', 'Ouachita', 'Plaquemines', 'Pointe Coupee', 'Rapides', 'Richland', 'St. Bernard', 'St. Charles', 'St. James', 'St. John the Baptist', 'St. Landry', 'St. Martin', 'St. Mary', 'St. Tammany', 'Tangipahoa', 'Terrebonne', 'Union', 'Unknown', 'Vermilion', 'Vernon', 'Washington', 'Webster', 'West Baton Rouge', 'West Feliciana', 'Winn', 'Acadia', 'Allen', 'Ascension', 'Assumption', 'Avoyelles', 'Beauregard', 'Bienville', 'Bossier', 'Caddo', 'Calcasieu', 'Caldwell', 'Catahoula', 'Claiborne', 'De Soto', 'East Baton Rouge', 'East Carroll', 'East Feliciana', 'Evangeline', 'Franklin', 'Grant', 'Iberia', 'Iberville', 'Jackson', 'Jefferson', 'Jefferson Davis', 'LaSalle', 'Lafayette', 'Lafourche', 'Lincoln', 'Livingston', 'Madison', 'Morehouse', 'Natchitoches', 'Orleans', 'Ouachita', 'Plaquemines', 'Pointe Coupee', 'Rapides', 'Red River', 'Richland', 'Sabine', 'St. Bernard', 'St. Charles', 'St. James', 'St. John the Baptist', 'St. Landry', 'St. Martin', 'St. Mary', 'St. Tammany', 'Tangipahoa', 'Terrebonne', 'Union', 'Unknown', 'Vermilion', 'Vernon', 'Washington', 'Webster', 'West Baton Rouge', 'West Feliciana', 'Winn']\n"
     ]
    }
   ],
   "source": [
    "# Print out the Louisiana search results\n",
    "\n",
    "print(matches)"
   ]
  },
  {
   "cell_type": "code",
   "execution_count": 7,
   "metadata": {},
   "outputs": [
    {
     "name": "stdout",
     "output_type": "stream",
     "text": [
      "Jefferson :  21\n",
      "Orleans :  20\n",
      "Caddo :  19\n",
      "St. Charles :  17\n",
      "St. Tammany :  17\n",
      "Terrebonne :  17\n",
      "Bossier :  16\n",
      "Lafourche :  16\n",
      "St. John the Baptist :  16\n",
      "St. Bernard :  15\n",
      "Ascension :  14\n",
      "East Baton Rouge :  13\n",
      "Washington :  13\n",
      "Unknown :  12\n",
      "Assumption :  11\n",
      "Calcasieu :  11\n",
      "Iberia :  11\n",
      "Iberville :  11\n",
      "Lafayette :  11\n",
      "Livingston :  11\n",
      "Plaquemines :  11\n",
      "St. James :  11\n",
      "St. Landry :  11\n",
      "Webster :  11\n",
      "West Baton Rouge :  11\n",
      "Catahoula :  10\n",
      "De Soto :  10\n",
      "Rapides :  10\n",
      "Tangipahoa :  10\n",
      "Avoyelles :  9\n",
      "Beauregard :  9\n",
      "Bienville :  9\n",
      "Claiborne :  9\n",
      "Evangeline :  9\n",
      "Ouachita :  9\n",
      "St. Mary :  9\n",
      "Acadia :  8\n",
      "Allen :  7\n",
      "Grant :  7\n",
      "Lincoln :  7\n",
      "Natchitoches :  7\n",
      "Richland :  7\n",
      "St. Martin :  7\n",
      "Vernon :  6\n",
      "Jackson :  5\n",
      "Jefferson Davis :  5\n",
      "Morehouse :  5\n",
      "Union :  5\n",
      "Winn :  5\n",
      "East Feliciana :  4\n",
      "LaSalle :  4\n",
      "Madison :  4\n",
      "Pointe Coupee :  4\n",
      "Vermilion :  4\n",
      "West Feliciana :  3\n",
      "East Carroll :  2\n",
      "Franklin :  2\n",
      "Caldwell :  1\n",
      "Red River :  1\n",
      "Sabine :  1\n"
     ]
    }
   ],
   "source": [
    "# Create a dictionary that has the Louisiana parish \n",
    "# names as keys and the number of times they appear \n",
    "# in the data file as values.\n",
    "\n",
    "# Hint: You can test if a dictionary does or does not\n",
    "# contain a certain key using:\n",
    "# myKey in myDict --or-- myKey not in myDict\n",
    "\n",
    "#creates dictionary\n",
    "dictOfParishes = {}\n",
    "#scans through the list of Parishes\n",
    "for i in matches:\n",
    "    #If parish i is found in dictionary, count the number\n",
    "    if (i in dictOfParishes):\n",
    "        dictOfParishes[i] += 1\n",
    "    #If parish i is not found, add it    \n",
    "    else:\n",
    "        dictOfParishes[i] = 1\n",
    "#retrieve the value for each key in the dictionary and print it\n",
    "for key, value in dictOfParishes.items():\n",
    "    print (\"%s : % d\"%(key,value))\n"
   ]
  },
  {
   "cell_type": "code",
   "execution_count": 9,
   "metadata": {},
   "outputs": [
    {
     "name": "stdout",
     "output_type": "stream",
     "text": [
      "{'Jefferson': 21, 'Orleans': 20, 'Caddo': 19, 'St. Charles': 17, 'St. Tammany': 17, 'Terrebonne': 17, 'Bossier': 16, 'Lafourche': 16, 'St. John the Baptist': 16, 'St. Bernard': 15, 'Ascension': 14, 'East Baton Rouge': 13, 'Washington': 13, 'Unknown': 12, 'Assumption': 11, 'Calcasieu': 11, 'Iberia': 11, 'Iberville': 11, 'Lafayette': 11, 'Livingston': 11, 'Plaquemines': 11, 'St. James': 11, 'St. Landry': 11, 'Webster': 11, 'West Baton Rouge': 11, 'Catahoula': 10, 'De Soto': 10, 'Rapides': 10, 'Tangipahoa': 10, 'Avoyelles': 9, 'Beauregard': 9, 'Bienville': 9, 'Claiborne': 9, 'Evangeline': 9, 'Ouachita': 9, 'St. Mary': 9, 'Acadia': 8, 'Allen': 7, 'Grant': 7, 'Lincoln': 7, 'Natchitoches': 7, 'Richland': 7, 'St. Martin': 7, 'Vernon': 6, 'Jackson': 5, 'Jefferson Davis': 5, 'Morehouse': 5, 'Union': 5, 'Winn': 5, 'East Feliciana': 4, 'LaSalle': 4, 'Madison': 4, 'Pointe Coupee': 4, 'Vermilion': 4, 'West Feliciana': 3, 'East Carroll': 2, 'Franklin': 2, 'Caldwell': 1, 'Red River': 1, 'Sabine': 1}\n"
     ]
    }
   ],
   "source": [
    "# Using your dictionary, figure out which of these parishes has\n",
    "# the most entries in the file. The one with the most entries\n",
    "# had the earliest observed covid case.\n",
    "# Jefferson, Orleans, East Baton Rouge, Plaquemines\n",
    "\n",
    "#sorts the dictionary in decending order of values and prints the sorted list\n",
    "sorted (dictOfParishes.items(), key=lambda i: i[1], reverse=True)\n",
    "print(dictOfParishes)"
   ]
  },
  {
   "cell_type": "code",
   "execution_count": 10,
   "metadata": {},
   "outputs": [
    {
     "name": "stdout",
     "output_type": "stream",
     "text": [
      "Of the 64 parishes in Louisiana, 60 parishes are affected.\n"
     ]
    }
   ],
   "source": [
    "# Figure out how many parishes are in the dictionary. How does \n",
    "# this compare to the total number of parishes in the state?\n",
    "\n",
    "#counts the number of parishes affected by counting the number of keys in the dictionary and prints a statement comparing affected parished to total number of parishes\n",
    "print(\"Of the 64 parishes in Louisiana,\", len(dictOfParishes.items()), \"parishes are affected.\")"
   ]
  },
  {
   "cell_type": "code",
   "execution_count": 12,
   "metadata": {},
   "outputs": [
    {
     "name": "stdout",
     "output_type": "stream",
     "text": [
      "Orleans parish reported the first covid-19 death in Louisiana on 2020-03-14\n"
     ]
    }
   ],
   "source": [
    "# Now, reopen the data file and use a regex search to find the first instance \n",
    "# where a Louisiana parish recorded a covid-19 death. This will be the first \n",
    "# line in the file that includes Louisiana and has a death count >0. After \n",
    "# your search, print the date and the parish. Be sure to also close the input file.\n",
    "# Example output: ZZZZ parish reported the first covid-19 death in Louisiana on 2020-ZZ-ZZ\n",
    "\n",
    "#opens file\n",
    "f= open(\"covid19Data.txt\", \"r\")\n",
    "#identifies the first line with Louisiana and a death count greater than 0\n",
    "deaths = (re.search(r\"(.*)(,Louisiana)(,[0-9]\\d*){2}(,[1-9]\\d*)\", contents).group(0)) \n",
    "split = deaths.split(\",\") \n",
    "#prints statement after indexing for parish name and date\n",
    "print(split[1],\"parish reported the first covid-19 death in Louisiana on\", split[0])\n",
    "\n",
    "f.close() "
   ]
  },
  {
   "cell_type": "code",
   "execution_count": 16,
   "metadata": {},
   "outputs": [
    {
     "name": "stdout",
     "output_type": "stream",
     "text": [
      "LA data file successfully created.\n"
     ]
    }
   ],
   "source": [
    "# Now we need to create a new file that only has records from Louisiana. \n",
    "# Extract the lines that pertain to Louisiana and write them to a new file.\n",
    "\n",
    "#opens file\n",
    "f= open(\"covid19Data.txt\", \"r\")\n",
    "#finds all cases in LA\n",
    "laData = re.findall(r\"(.*)(Louisiana)(.*)\", f.read())\n",
    "#closes the file\n",
    "f.close()\n",
    "#creates new file\n",
    "laDataOnly= open (\"laDataOnly.txt\",'w') \n",
    "#scans through all the LA cases\n",
    "for i in laData:\n",
    "    #converts each tuple to a string\n",
    "    laDataOnly.write(''.join(i)) \n",
    "    #creates a new line following each string\n",
    "    laDataOnly.write('\\n') ,\n",
    "#closes new file\n",
    "laDataOnly.close()\n",
    "#prints statement to ensure code works properly\n",
    "print (\"LA data file successfully created.\")"
   ]
  },
  {
   "cell_type": "code",
   "execution_count": 2,
   "metadata": {},
   "outputs": [
    {
     "name": "stdout",
     "output_type": "stream",
     "text": [
      "Reformatted LA file has been successfully created.\n"
     ]
    }
   ],
   "source": [
    "# Lastly, let's imagine that we want to do further downstream analyses with\n",
    "# the Louisiana data, but our downstream analyses require some formatting chanages.\n",
    "# Read in the lines from your newly created file with only Louisiana records, reformat them, \n",
    "# and create a separate file to hold the newly formatted information. Specifically, the \n",
    "# dates in the file should be reformatted from looking like this (2020-MM-DD) to looking \n",
    "# like this (MM.DD.2020). Also, the fips codes (in the 4th column) should be removed, and\n",
    "# Louisiana should be abbreviated as LA. So, this file should end up with entries that look\n",
    "# like this: 03.25.2020,Morehouse,LA,1,0\n",
    "\n",
    "#opens the file\n",
    "newLAFormat = open(\"laDataOnly.txt\",'r') \n",
    "#creates writable new file\n",
    "f= open(\"newLAFormat.txt\",'w') \n",
    "\n",
    "for line in newLAFormat:\n",
    "    #seperate each line into 6 parts based on commas\n",
    "    date, county, state, fips, cases, deaths=line.split(\",\") \n",
    "    #replaces louisiana with LA \n",
    "    state = \"LA\" \n",
    "    #separates the parts of date using hyphens\n",
    "    year, month, day = date.split(\"-\") \n",
    "    #reformats the date to use periods instead of hyphens\n",
    "    date=month+\".\"+day+\".\"+year \n",
    "    #writes to the new file based on new format\n",
    "    f.write (date+\",\"+county+\",\"+state+\",\"+cases+\",\"+deaths) #writes the new file with the given instructions.\n",
    "\n",
    "\n",
    "#close files\n",
    "\n",
    "newLAFormat.close()\n",
    "\n",
    "f.close()\n",
    "#print to ensure proper execution\n",
    "print(\"Reformatted LA file has been successfully created.\")"
   ]
  },
  {
   "cell_type": "code",
   "execution_count": null,
   "metadata": {},
   "outputs": [],
   "source": []
  }
 ],
 "metadata": {
  "kernelspec": {
   "display_name": "Python 3",
   "language": "python",
   "name": "python3"
  },
  "language_info": {
   "codemirror_mode": {
    "name": "ipython",
    "version": 3
   },
   "file_extension": ".py",
   "mimetype": "text/x-python",
   "name": "python",
   "nbconvert_exporter": "python",
   "pygments_lexer": "ipython3",
   "version": "3.6.4"
  }
 },
 "nbformat": 4,
 "nbformat_minor": 2
}
