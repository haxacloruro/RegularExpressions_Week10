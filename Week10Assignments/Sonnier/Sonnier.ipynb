{
 "cells": [
  {
   "cell_type": "code",
   "execution_count": 1,
   "metadata": {},
   "outputs": [],
   "source": [
    "#load the re module\n",
    "import re"
   ]
  },
  {
   "cell_type": "code",
   "execution_count": 3,
   "metadata": {},
   "outputs": [
    {
     "name": "stdout",
     "output_type": "stream",
     "text": [
      "['Jefferson', 'Jefferson', 'Orleans', 'Caddo', 'Jefferson', 'Orleans', 'Caddo', 'Jefferson', 'Orleans', 'Caddo', 'Jefferson', 'Orleans', 'Charles', 'Tammany', 'Terrebonne', 'Bossier', 'Caddo', 'Jefferson', 'Lafourche', 'Orleans', 'Charles', 'Baptist', 'Tammany', 'Terrebonne', 'Bossier', 'Caddo', 'Jefferson', 'Lafourche', 'Orleans', 'Bernard', 'Charles', 'Baptist', 'Tammany', 'Terrebonne', 'Ascension', 'Bossier', 'Caddo', 'Jefferson', 'Lafourche', 'Orleans', 'Bernard', 'Charles', 'Baptist', 'Tammany', 'Terrebonne', 'Ascension', 'Bossier', 'Caddo', 'Rouge', 'Jefferson', 'Lafourche', 'Orleans', 'Bernard', 'Charles', 'Baptist', 'Tammany', 'Terrebonne', 'Washington', 'Ascension', 'Bossier', 'Caddo', 'Rouge', 'Jefferson', 'Lafourche', 'Orleans', 'Bernard', 'Charles', 'Baptist', 'Tammany', 'Terrebonne', 'Unknown', 'Washington', 'Ascension', 'Assumption', 'Bossier', 'Caddo', 'Calcasieu', 'Rouge', 'Iberia', 'Iberville', 'Jefferson', 'Lafayette', 'Lafourche', 'Livingston', 'Orleans', 'Plaquemines', 'Bernard', 'Charles', 'James', 'Baptist', 'Landry', 'Tammany', 'Terrebonne', 'Unknown', 'Washington', 'Webster', 'Rouge', 'Ascension', 'Assumption', 'Bossier', 'Caddo', 'Calcasieu', 'Catahoula', 'Soto', 'Rouge', 'Iberia', 'Iberville', 'Jefferson', 'Lafayette', 'Lafourche', 'Livingston', 'Orleans', 'Plaquemines', 'Rapides', 'Bernard', 'Charles', 'James', 'Baptist', 'Landry', 'Tammany', 'Tangipahoa', 'Terrebonne', 'Unknown', 'Washington', 'Webster', 'Rouge', 'Ascension', 'Assumption', 'Avoyelles', 'Beauregard', 'Bienville', 'Bossier', 'Caddo', 'Calcasieu', 'Catahoula', 'Claiborne', 'Soto', 'Rouge', 'Evangeline', 'Iberia', 'Iberville', 'Jefferson', 'Lafayette', 'Lafourche', 'Livingston', 'Orleans', 'Ouachita', 'Plaquemines', 'Rapides', 'Bernard', 'Charles', 'James', 'Baptist', 'Landry', 'Mary', 'Tammany', 'Tangipahoa', 'Terrebonne', 'Unknown', 'Washington', 'Webster', 'Rouge', 'Acadia', 'Ascension', 'Assumption', 'Avoyelles', 'Beauregard', 'Bienville', 'Bossier', 'Caddo', 'Calcasieu', 'Catahoula', 'Claiborne', 'Soto', 'Rouge', 'Evangeline', 'Iberia', 'Iberville', 'Jefferson', 'Lafayette', 'Lafourche', 'Livingston', 'Orleans', 'Ouachita', 'Plaquemines', 'Rapides', 'Bernard', 'Charles', 'James', 'Baptist', 'Landry', 'Mary', 'Tammany', 'Tangipahoa', 'Terrebonne', 'Unknown', 'Washington', 'Webster', 'Rouge', 'Acadia', 'Allen', 'Ascension', 'Assumption', 'Avoyelles', 'Beauregard', 'Bienville', 'Bossier', 'Caddo', 'Calcasieu', 'Catahoula', 'Claiborne', 'Soto', 'Rouge', 'Evangeline', 'Grant', 'Iberia', 'Iberville', 'Jefferson', 'Lafayette', 'Lafourche', 'Lincoln', 'Livingston', 'Natchitoches', 'Orleans', 'Ouachita', 'Plaquemines', 'Rapides', 'Richland', 'Bernard', 'Charles', 'James', 'Baptist', 'Landry', 'Martin', 'Mary', 'Tammany', 'Tangipahoa', 'Terrebonne', 'Unknown', 'Washington', 'Webster', 'Rouge', 'Acadia', 'Allen', 'Ascension', 'Assumption', 'Avoyelles', 'Beauregard', 'Bienville', 'Bossier', 'Caddo', 'Calcasieu', 'Catahoula', 'Claiborne', 'Soto', 'Rouge', 'Evangeline', 'Grant', 'Iberia', 'Iberville', 'Jefferson', 'Lafayette', 'Lafourche', 'Lincoln', 'Livingston', 'Natchitoches', 'Orleans', 'Ouachita', 'Plaquemines', 'Rapides', 'Richland', 'Bernard', 'Charles', 'James', 'Baptist', 'Landry', 'Martin', 'Mary', 'Tammany', 'Tangipahoa', 'Terrebonne', 'Unknown', 'Vernon', 'Washington', 'Webster', 'Rouge', 'Acadia', 'Allen', 'Ascension', 'Assumption', 'Avoyelles', 'Beauregard', 'Bienville', 'Bossier', 'Caddo', 'Calcasieu', 'Catahoula', 'Claiborne', 'Soto', 'Rouge', 'Evangeline', 'Grant', 'Iberia', 'Iberville', 'Jackson', 'Jefferson', 'Davis', 'Lafayette', 'Lafourche', 'Lincoln', 'Livingston', 'Morehouse', 'Natchitoches', 'Orleans', 'Ouachita', 'Plaquemines', 'Rapides', 'Richland', 'Bernard', 'Charles', 'James', 'Baptist', 'Landry', 'Martin', 'Mary', 'Tammany', 'Tangipahoa', 'Terrebonne', 'Union', 'Unknown', 'Vernon', 'Washington', 'Webster', 'Rouge', 'Winn', 'Acadia', 'Allen', 'Ascension', 'Assumption', 'Avoyelles', 'Beauregard', 'Bienville', 'Bossier', 'Caddo', 'Calcasieu', 'Catahoula', 'Claiborne', 'Soto', 'Rouge', 'Feliciana', 'Evangeline', 'Grant', 'Iberia', 'Iberville', 'Jackson', 'Jefferson', 'Davis', 'LaSalle', 'Lafayette', 'Lafourche', 'Lincoln', 'Livingston', 'Madison', 'Morehouse', 'Natchitoches', 'Orleans', 'Ouachita', 'Plaquemines', 'Coupee', 'Rapides', 'Richland', 'Bernard', 'Charles', 'James', 'Baptist', 'Landry', 'Martin', 'Mary', 'Tammany', 'Tangipahoa', 'Terrebonne', 'Union', 'Unknown', 'Vermilion', 'Vernon', 'Washington', 'Webster', 'Rouge', 'Winn', 'Acadia', 'Allen', 'Ascension', 'Assumption', 'Avoyelles', 'Beauregard', 'Bienville', 'Bossier', 'Caddo', 'Calcasieu', 'Catahoula', 'Claiborne', 'Soto', 'Rouge', 'Feliciana', 'Evangeline', 'Grant', 'Iberia', 'Iberville', 'Jackson', 'Jefferson', 'Davis', 'LaSalle', 'Lafayette', 'Lafourche', 'Lincoln', 'Livingston', 'Madison', 'Morehouse', 'Natchitoches', 'Orleans', 'Ouachita', 'Plaquemines', 'Coupee', 'Rapides', 'Richland', 'Bernard', 'Charles', 'James', 'Baptist', 'Landry', 'Martin', 'Mary', 'Tammany', 'Tangipahoa', 'Terrebonne', 'Union', 'Unknown', 'Vermilion', 'Vernon', 'Washington', 'Webster', 'Rouge', 'Feliciana', 'Winn', 'Acadia', 'Allen', 'Ascension', 'Assumption', 'Avoyelles', 'Beauregard', 'Bienville', 'Bossier', 'Caddo', 'Calcasieu', 'Catahoula', 'Claiborne', 'Soto', 'Rouge', 'Carroll', 'Feliciana', 'Evangeline', 'Franklin', 'Grant', 'Iberia', 'Iberville', 'Jackson', 'Jefferson', 'Davis', 'LaSalle', 'Lafayette', 'Lafourche', 'Lincoln', 'Livingston', 'Madison', 'Morehouse', 'Natchitoches', 'Orleans', 'Ouachita', 'Plaquemines', 'Coupee', 'Rapides', 'Richland', 'Bernard', 'Charles', 'James', 'Baptist', 'Landry', 'Martin', 'Mary', 'Tammany', 'Tangipahoa', 'Terrebonne', 'Union', 'Unknown', 'Vermilion', 'Vernon', 'Washington', 'Webster', 'Rouge', 'Feliciana', 'Winn', 'Acadia', 'Allen', 'Ascension', 'Assumption', 'Avoyelles', 'Beauregard', 'Bienville', 'Bossier', 'Caddo', 'Calcasieu', 'Caldwell', 'Catahoula', 'Claiborne', 'Soto', 'Rouge', 'Carroll', 'Feliciana', 'Evangeline', 'Franklin', 'Grant', 'Iberia', 'Iberville', 'Jackson', 'Jefferson', 'Davis', 'LaSalle', 'Lafayette', 'Lafourche', 'Lincoln', 'Livingston', 'Madison', 'Morehouse', 'Natchitoches', 'Orleans', 'Ouachita', 'Plaquemines', 'Coupee', 'Rapides', 'River', 'Richland', 'Sabine', 'Bernard', 'Charles', 'James', 'Baptist', 'Landry', 'Martin', 'Mary', 'Tammany', 'Tangipahoa', 'Terrebonne', 'Union', 'Unknown', 'Vermilion', 'Vernon', 'Washington', 'Webster', 'Rouge', 'Feliciana', 'Winn']\n"
     ]
    }
   ],
   "source": [
    "#create a file object from the covid data file\n",
    "dataFile = open(\"covidData_3.30.20.txt\",\"r\")\n",
    "#match all the louisiana parishes and make a list\n",
    "with open(\"covidData_3.30.20.txt\") as f:\n",
    "        all_parishes = re.findall(r'(\\w\\w+),Louisiana',f.read())\n",
    "# matches = re.findall(r\"(\\d\\w)^Louisiana(\\$)\",\"dataFile\")* this didnt work\n",
    "# close the covid data file object\n",
    "dataFile.close()\n",
    "#print out parishes results\n",
    "print(all_parishes)"
   ]
  },
  {
   "cell_type": "code",
   "execution_count": 6,
   "metadata": {},
   "outputs": [
    {
     "ename": "IndentationError",
     "evalue": "expected an indented block (<ipython-input-6-552be04d93f2>, line 13)",
     "output_type": "error",
     "traceback": [
      "\u001b[0;36m  File \u001b[0;32m\"<ipython-input-6-552be04d93f2>\"\u001b[0;36m, line \u001b[0;32m13\u001b[0m\n\u001b[0;31m    k=k+1\u001b[0m\n\u001b[0m    ^\u001b[0m\n\u001b[0;31mIndentationError\u001b[0m\u001b[0;31m:\u001b[0m expected an indented block\n"
     ]
    }
   ],
   "source": [
    "#create a dictionary with all of the parishes\n",
    "Parishesdict = {}\n",
    "Parishesdict[\"LA\"] = [\"Jefferson\", \"Orleans\",\"Caddo\",\"St Charles\",\"Tammany\",\"Terrebone\"]\n",
    "dataFile.open(\"covidData_3.30.20.txt\")\n",
    "fname=input(\"covidData_3.30.20.txt\")\n",
    "fname = input(\"Orleans\")\n",
    "#count the occurances of Orleans in the file (change to include other parishes)\n",
    "with open(\"covidData_3.30.20.txt\") as f:\n",
    "        for line in f:\n",
    "             words=line.split()\n",
    "        for i in words:\n",
    "                if(i==word):\n",
    "                k=k+1\n",
    "print(\"Occurances of the word:\")\n",
    "print(k)\n",
    "#for i in Parishesdict:\n",
    "#       print i\n",
    "dataFile.close()"
   ]
  },
  {
   "cell_type": "code",
   "execution_count": 7,
   "metadata": {},
   "outputs": [
    {
     "ename": "SyntaxError",
     "evalue": "invalid syntax (<ipython-input-7-a555d379a71e>, line 4)",
     "output_type": "error",
     "traceback": [
      "\u001b[0;36m  File \u001b[0;32m\"<ipython-input-7-a555d379a71e>\"\u001b[0;36m, line \u001b[0;32m4\u001b[0m\n\u001b[0;31m    if re.search(r\"deaths >= 0\",f.read())\u001b[0m\n\u001b[0m                                         ^\u001b[0m\n\u001b[0;31mSyntaxError\u001b[0m\u001b[0;31m:\u001b[0m invalid syntax\n"
     ]
    }
   ],
   "source": [
    "# use a regex search to find the 1st instance of a LA parish recorded a death\n",
    "dataFile.open(\"covidData_3.30.20.txt\",\"r\")\n",
    "re.search(r\"deaths >= 0\",f.read())\n",
    "if re.search(r\"deaths >= 0\",f.read())\n",
    "        print(\"This parish had the earliest entry:\")\n",
    "else:\n",
    "        print(\"Pattern not found!\")\n",
    "dataFile.close()\n",
    "# Now we need to create a new file that only has records from Louisiana.\n",
    "# Extract the lines that pertain to Louisiana and write them to a new file.\n",
    "LAonlyPar=open(r\"covidData_3.30.20.txt\",\"r+\")\n",
    "with open(\"covidData_3.30.20.txt\")\n",
    "        for line n dataFile.writelines(all_parishes)\n",
    "LAonlyPar.close()"
   ]
  },
  {
   "cell_type": "code",
   "execution_count": 8,
   "metadata": {},
   "outputs": [
    {
     "ename": "IndentationError",
     "evalue": "unexpected indent (<ipython-input-8-dc5b13351b6c>, line 10)",
     "output_type": "error",
     "traceback": [
      "\u001b[0;36m  File \u001b[0;32m\"<ipython-input-8-dc5b13351b6c>\"\u001b[0;36m, line \u001b[0;32m10\u001b[0m\n\u001b[0;31m    with open(\"LAonlyPar.txt\")\u001b[0m\n\u001b[0m    ^\u001b[0m\n\u001b[0;31mIndentationError\u001b[0m\u001b[0;31m:\u001b[0m unexpected indent\n"
     ]
    }
   ],
   "source": [
    "# Lastly, let's imagine that we want to do further downstream analyses with\n",
    "# the Louisiana data, but our downstream analyses require some formatting chanages.\n",
    "# Read in the lines from your newly created file with only Louisiana records, reforma$\n",
    "# and create a separate file to hold the newly formatted information. Specifically, tthe\n",
    "# dates in the file should be reformatted from looking like this (2020-MM-DD) to looking\n",
    "# like this (MM.DD.2020). Also, the fips codes (in the 4th column) should be removed, and\n",
    "# Louisiana should be abbreviated as LA. So, this file should end up with entries that look\n",
    "# like this: 03.25.2020,Morehouse,LA,1,0# Now we need to create a new file that only has records from Louisiana an$\n",
    "dataFile.open(\"LAonlyPar.txt\",\"w\")\n",
    "        with open(\"LAonlyPar.txt\")\n",
    "        for line in dataFile.writelines(all_parishes)\n",
    "        re.sub(w\"(\\w\\w)(Louisiana)(\\w\\w)\",r\"\\1|\\2\\ \", LAonlyPar.txt\")\n",
    "dataFile.close()"
   ]
  },
  {
   "cell_type": "code",
   "execution_count": null,
   "metadata": {},
   "outputs": [],
   "source": []
  }
 ],
 "metadata": {
  "kernelspec": {
   "display_name": "Python 3",
   "language": "python",
   "name": "python3"
  },
  "language_info": {
   "codemirror_mode": {
    "name": "ipython",
    "version": 3
   },
   "file_extension": ".py",
   "mimetype": "text/x-python",
   "name": "python",
   "nbconvert_exporter": "python",
   "pygments_lexer": "ipython3",
   "version": "3.7.6"
  }
 },
 "nbformat": 4,
 "nbformat_minor": 4
}
